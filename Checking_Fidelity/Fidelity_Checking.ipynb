{
 "cells": [
  {
   "cell_type": "markdown",
   "id": "ad6b2706-d59e-4333-b7a7-d193a18b34ce",
   "metadata": {},
   "source": [
    "## Fidelity Checking\n",
    "\n",
    "This project demonstrates the effectivity of storing the states in a `Disctionary` for efficient fidelity calculation. First we do it manually, then do it in storing in a dictionary, then check if two give us the same output."
   ]
  },
  {
   "cell_type": "code",
   "execution_count": null,
   "id": "73eb6f14-e563-4b0a-9913-ee1172d7bf6d",
   "metadata": {},
   "outputs": [],
   "source": [
    "pip install qutip"
   ]
  },
  {
   "cell_type": "code",
   "execution_count": 1,
   "id": "fa40705c-584c-458f-9eef-a3fd11b31a6e",
   "metadata": {},
   "outputs": [],
   "source": [
    "from IPython.display import display, Latex\n",
    "from qutip import basis, tensor, ket2dm\n",
    "import numpy as np\n",
    "\n",
    "# Define basis states using qutip\n",
    "H = basis(2, 0)  \n",
    "V = basis(2, 1)  \n"
   ]
  },
  {
   "cell_type": "markdown",
   "id": "d643523c-6e01-4ea2-a589-3e7c96cfb710",
   "metadata": {},
   "source": [
    "#### Buildind the states\n",
    "\n",
    "In this step, I considered only the symmetric states (2 transmitted, 2 reflected) after two _entangled_ photon pairs go through the beam splitter, through only one arm of it.\n",
    "\n",
    "- `tensor( , )` from the __qutip__ package for tensor multiplication.\n",
    "- `unit()` from the __qutip__ package for automatic normalization. \n"
   ]
  },
  {
   "cell_type": "code",
   "execution_count": 2,
   "id": "9834d310-134e-4b6b-a805-f1a454a66eb9",
   "metadata": {},
   "outputs": [
    {
     "name": "stdout",
     "output_type": "stream",
     "text": [
      "True\n"
     ]
    }
   ],
   "source": [
    "term1  =  (tensor(H, V, H, V)).unit()\n",
    "term2  = -(tensor(H, V, V, H)).unit()\n",
    "term3  =  (tensor(H, V, H, V)).unit()\n",
    "term4  =  (tensor(H, V, H, V)).unit()\n",
    "term5  = -(tensor(H, V, V, H)).unit()\n",
    "term6  = -(tensor(H, V, V, H)).unit()\n",
    "term7  =  (tensor(H, V, H, V)).unit()\n",
    "term8  =  (tensor(H, V, H, V)).unit()\n",
    "term9  = -(tensor(H, V, V, H)).unit()\n",
    "term10 = -(tensor(H, V, V, H)).unit()\n",
    "term11 =  (tensor(H, V, H, V)).unit()\n",
    "term12 = -(tensor(H, V, V, H)).unit()\n",
    "\n",
    "term13 = -(tensor(V, H, H, V)).unit()\n",
    "term14 =  (tensor(V, H, V, H)).unit()\n",
    "term15 = -(tensor(V, H, H, V)).unit()\n",
    "term16 = -(tensor(V, H, H, V)).unit()\n",
    "term17 =  (tensor(V, H, V, H)).unit()\n",
    "term18 =  (tensor(V, H, V, H)).unit()\n",
    "term19 = -(tensor(V, H, H, V)).unit()\n",
    "term20 = -(tensor(V, H, H, V)).unit()\n",
    "term21 =  (tensor(V, H, V, H)).unit()\n",
    "term22 =  (tensor(V, H, V, H)).unit()\n",
    "term23 = -(tensor(V, H, H, V)).unit()\n",
    "term24 =  (tensor(V, H, V, H)).unit()\n",
    "\n",
    "terms = (term1 + term2 + term3 + term4 + term5 + term6 + term7 + term8 + term9 + term10 + term11 + term12 + term13 + term14 + term15 + term16 + term17 + term18 + term19 + term20 + term21 + term22 + term23 + term24)\n",
    "terms = terms.unit()\n",
    "\n",
    "\n",
    "\n",
    "symmetry_terms = [\n",
    "    (+1, [H, V, H, V]),\n",
    "    (-1, [H, V, V, H]),\n",
    "    (+1, [H, V, H, V]),\n",
    "    (+1, [H, V, H, V]),\n",
    "    (-1, [H, V, V, H]),\n",
    "    (-1, [H, V, V, H]),\n",
    "    (+1, [H, V, H, V]),\n",
    "    (+1, [H, V, H, V]),\n",
    "    (-1, [H, V, V, H]),\n",
    "    (-1, [H, V, V, H]),\n",
    "    (+1, [H, V, H, V]),\n",
    "    (-1, [H, V, V, H]),\n",
    "    \n",
    "    (-1, [V, H, H, V]),\n",
    "    (+1, [V, H, V, H]),\n",
    "    (-1, [V, H, H, V]),\n",
    "    (-1, [V, H, H, V]),\n",
    "    (+1, [V, H, V, H]),\n",
    "    (+1, [V, H, V, H]),\n",
    "    (-1, [V, H, H, V]),\n",
    "    (-1, [V, H, H, V]),\n",
    "    (+1, [V, H, V, H]),\n",
    "    (+1, [V, H, V, H]),\n",
    "    (-1, [V, H, H, V]),\n",
    "    (+1, [V, H, V, H]),\n",
    "]\n",
    "\n",
    "psi       = sum(coeff * tensor(*modes) for coeff, modes in symmetry_terms)\n",
    "psii      = psi.unit()\n",
    "\n",
    "print(psii == terms)"
   ]
  },
  {
   "cell_type": "markdown",
   "id": "2ade79ba-ad2d-4f82-ba4d-7f665e54d812",
   "metadata": {},
   "source": [
    "## Now calculating the `trace` and the `purity`:"
   ]
  },
  {
   "cell_type": "code",
   "execution_count": 3,
   "id": "6e952cbe-d61c-476e-8f1b-0132ad30db62",
   "metadata": {},
   "outputs": [
    {
     "data": {
      "text/plain": [
       "1.0"
      ]
     },
     "metadata": {},
     "output_type": "display_data"
    },
    {
     "data": {
      "text/plain": [
       "1.0"
      ]
     },
     "metadata": {},
     "output_type": "display_data"
    },
    {
     "data": {
      "text/plain": [
       "1.0"
      ]
     },
     "metadata": {},
     "output_type": "display_data"
    }
   ],
   "source": [
    "\n",
    "rho       = ket2dm(psii)\n",
    "trace_rho = rho.tr()\n",
    "purity    = (rho * rho).tr()\n",
    "\n",
    "display(trace_rho)\n",
    "display(purity)\n",
    "display(psii.norm())\n"
   ]
  }
 ],
 "metadata": {
  "kernelspec": {
   "display_name": "Python (base)",
   "language": "python",
   "name": "base"
  },
  "language_info": {
   "codemirror_mode": {
    "name": "ipython",
    "version": 3
   },
   "file_extension": ".py",
   "mimetype": "text/x-python",
   "name": "python",
   "nbconvert_exporter": "python",
   "pygments_lexer": "ipython3",
   "version": "3.12.7"
  }
 },
 "nbformat": 4,
 "nbformat_minor": 5
}
