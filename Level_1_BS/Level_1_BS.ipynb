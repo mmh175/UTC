{
 "cells": [
  {
   "cell_type": "markdown",
   "id": "c438e0d6-cb7a-43f7-807b-3f16302324bc",
   "metadata": {},
   "source": [
    "## Level 1 BS effect\n",
    "\n",
    "In this code, I showed that- it does not matter if you apply the beam splitter first and then combine the state __OR__ if you combine the state and then apply BS."
   ]
  },
  {
   "cell_type": "code",
   "execution_count": 1,
   "id": "de72e84c-0405-421a-9a5b-441315b6554e",
   "metadata": {},
   "outputs": [],
   "source": [
    "import numpy as np\n",
    "from sympy import *\n",
    "from IPython.display import display, Latex"
   ]
  },
  {
   "cell_type": "code",
   "execution_count": 2,
   "id": "2e895691-3496-470d-92a7-0e68513d1bd1",
   "metadata": {},
   "outputs": [],
   "source": [
    "\n",
    "# list of symbolic representation\n",
    "He, Hl, Ve, Vl, Hte, Hre, Htl, Hrl, Vte, Vre, Vtl, Vrl, = symbols('H^e H^l V^e V^l H_t^e H_r^e H_t^l H_r^l V_t^e V_r^e V_t^l V_r^l', commutative=False)\n",
    "\n",
    "#for simplication in the output display format\n",
    "sqrt_half = Rational(1,2)**Rational(1,2)\n",
    "\n",
    "psi_minus_e      = sqrt_half * (He * Ve - Ve * He)\n",
    "psi_minus_l      = sqrt_half * (Hl * Vl - Vl * Hl)\n",
    "\n",
    "H_transform_e    = sqrt_half * (Hte + Hre)\n",
    "V_transform_e    = sqrt_half * (Vte + Vre)\n",
    "\n",
    "H_transform_l    = sqrt_half * (Htl + Hrl)\n",
    "V_transform_l    = sqrt_half * (Vtl + Vrl)\n"
   ]
  },
  {
   "cell_type": "markdown",
   "id": "bb176707-cfa4-4ed9-9088-7169849e6887",
   "metadata": {},
   "source": [
    "### Method 1"
   ]
  },
  {
   "cell_type": "code",
   "execution_count": 3,
   "id": "3d55530c-fa9b-4b2a-a081-0d007a3e8aaf",
   "metadata": {},
   "outputs": [
    {
     "data": {
      "text/latex": [
       "$\\displaystyle \\frac{H^{e}_{r} V^{e}_{r} H^{l}_{r} V^{l}_{r} + H^{e}_{r} V^{e}_{r} H^{l}_{r} V^{l}_{t} + H^{e}_{r} V^{e}_{r} H^{l}_{t} V^{l}_{r} + H^{e}_{r} V^{e}_{r} H^{l}_{t} V^{l}_{t} - H^{e}_{r} V^{e}_{r} V^{l}_{r} H^{l}_{r} - H^{e}_{r} V^{e}_{r} V^{l}_{r} H^{l}_{t} - H^{e}_{r} V^{e}_{r} V^{l}_{t} H^{l}_{r} - H^{e}_{r} V^{e}_{r} V^{l}_{t} H^{l}_{t} + H^{e}_{r} V^{e}_{t} H^{l}_{r} V^{l}_{r} + H^{e}_{r} V^{e}_{t} H^{l}_{r} V^{l}_{t} + H^{e}_{r} V^{e}_{t} H^{l}_{t} V^{l}_{r} + H^{e}_{r} V^{e}_{t} H^{l}_{t} V^{l}_{t} - H^{e}_{r} V^{e}_{t} V^{l}_{r} H^{l}_{r} - H^{e}_{r} V^{e}_{t} V^{l}_{r} H^{l}_{t} - H^{e}_{r} V^{e}_{t} V^{l}_{t} H^{l}_{r} - H^{e}_{r} V^{e}_{t} V^{l}_{t} H^{l}_{t} + H^{e}_{t} V^{e}_{r} H^{l}_{r} V^{l}_{r} + H^{e}_{t} V^{e}_{r} H^{l}_{r} V^{l}_{t} + H^{e}_{t} V^{e}_{r} H^{l}_{t} V^{l}_{r} + H^{e}_{t} V^{e}_{r} H^{l}_{t} V^{l}_{t} - H^{e}_{t} V^{e}_{r} V^{l}_{r} H^{l}_{r} - H^{e}_{t} V^{e}_{r} V^{l}_{r} H^{l}_{t} - H^{e}_{t} V^{e}_{r} V^{l}_{t} H^{l}_{r} - H^{e}_{t} V^{e}_{r} V^{l}_{t} H^{l}_{t} + H^{e}_{t} V^{e}_{t} H^{l}_{r} V^{l}_{r} + H^{e}_{t} V^{e}_{t} H^{l}_{r} V^{l}_{t} + H^{e}_{t} V^{e}_{t} H^{l}_{t} V^{l}_{r} + H^{e}_{t} V^{e}_{t} H^{l}_{t} V^{l}_{t} - H^{e}_{t} V^{e}_{t} V^{l}_{r} H^{l}_{r} - H^{e}_{t} V^{e}_{t} V^{l}_{r} H^{l}_{t} - H^{e}_{t} V^{e}_{t} V^{l}_{t} H^{l}_{r} - H^{e}_{t} V^{e}_{t} V^{l}_{t} H^{l}_{t} - V^{e}_{r} H^{e}_{r} H^{l}_{r} V^{l}_{r} - V^{e}_{r} H^{e}_{r} H^{l}_{r} V^{l}_{t} - V^{e}_{r} H^{e}_{r} H^{l}_{t} V^{l}_{r} - V^{e}_{r} H^{e}_{r} H^{l}_{t} V^{l}_{t} + V^{e}_{r} H^{e}_{r} V^{l}_{r} H^{l}_{r} + V^{e}_{r} H^{e}_{r} V^{l}_{r} H^{l}_{t} + V^{e}_{r} H^{e}_{r} V^{l}_{t} H^{l}_{r} + V^{e}_{r} H^{e}_{r} V^{l}_{t} H^{l}_{t} - V^{e}_{r} H^{e}_{t} H^{l}_{r} V^{l}_{r} - V^{e}_{r} H^{e}_{t} H^{l}_{r} V^{l}_{t} - V^{e}_{r} H^{e}_{t} H^{l}_{t} V^{l}_{r} - V^{e}_{r} H^{e}_{t} H^{l}_{t} V^{l}_{t} + V^{e}_{r} H^{e}_{t} V^{l}_{r} H^{l}_{r} + V^{e}_{r} H^{e}_{t} V^{l}_{r} H^{l}_{t} + V^{e}_{r} H^{e}_{t} V^{l}_{t} H^{l}_{r} + V^{e}_{r} H^{e}_{t} V^{l}_{t} H^{l}_{t} - V^{e}_{t} H^{e}_{r} H^{l}_{r} V^{l}_{r} - V^{e}_{t} H^{e}_{r} H^{l}_{r} V^{l}_{t} - V^{e}_{t} H^{e}_{r} H^{l}_{t} V^{l}_{r} - V^{e}_{t} H^{e}_{r} H^{l}_{t} V^{l}_{t} + V^{e}_{t} H^{e}_{r} V^{l}_{r} H^{l}_{r} + V^{e}_{t} H^{e}_{r} V^{l}_{r} H^{l}_{t} + V^{e}_{t} H^{e}_{r} V^{l}_{t} H^{l}_{r} + V^{e}_{t} H^{e}_{r} V^{l}_{t} H^{l}_{t} - V^{e}_{t} H^{e}_{t} H^{l}_{r} V^{l}_{r} - V^{e}_{t} H^{e}_{t} H^{l}_{r} V^{l}_{t} - V^{e}_{t} H^{e}_{t} H^{l}_{t} V^{l}_{r} - V^{e}_{t} H^{e}_{t} H^{l}_{t} V^{l}_{t} + V^{e}_{t} H^{e}_{t} V^{l}_{r} H^{l}_{r} + V^{e}_{t} H^{e}_{t} V^{l}_{r} H^{l}_{t} + V^{e}_{t} H^{e}_{t} V^{l}_{t} H^{l}_{r} + V^{e}_{t} H^{e}_{t} V^{l}_{t} H^{l}_{t}}{8}$"
      ],
      "text/plain": [
       "(H_r^e*V_r^e*H_r^l*V_r^l + H_r^e*V_r^e*H_r^l*V_t^l + H_r^e*V_r^e*H_t^l*V_r^l + H_r^e*V_r^e*H_t^l*V_t^l - H_r^e*V_r^e*V_r^l*H_r^l - H_r^e*V_r^e*V_r^l*H_t^l - H_r^e*V_r^e*V_t^l*H_r^l - H_r^e*V_r^e*V_t^l*H_t^l + H_r^e*V_t^e*H_r^l*V_r^l + H_r^e*V_t^e*H_r^l*V_t^l + H_r^e*V_t^e*H_t^l*V_r^l + H_r^e*V_t^e*H_t^l*V_t^l - H_r^e*V_t^e*V_r^l*H_r^l - H_r^e*V_t^e*V_r^l*H_t^l - H_r^e*V_t^e*V_t^l*H_r^l - H_r^e*V_t^e*V_t^l*H_t^l + H_t^e*V_r^e*H_r^l*V_r^l + H_t^e*V_r^e*H_r^l*V_t^l + H_t^e*V_r^e*H_t^l*V_r^l + H_t^e*V_r^e*H_t^l*V_t^l - H_t^e*V_r^e*V_r^l*H_r^l - H_t^e*V_r^e*V_r^l*H_t^l - H_t^e*V_r^e*V_t^l*H_r^l - H_t^e*V_r^e*V_t^l*H_t^l + H_t^e*V_t^e*H_r^l*V_r^l + H_t^e*V_t^e*H_r^l*V_t^l + H_t^e*V_t^e*H_t^l*V_r^l + H_t^e*V_t^e*H_t^l*V_t^l - H_t^e*V_t^e*V_r^l*H_r^l - H_t^e*V_t^e*V_r^l*H_t^l - H_t^e*V_t^e*V_t^l*H_r^l - H_t^e*V_t^e*V_t^l*H_t^l - V_r^e*H_r^e*H_r^l*V_r^l - V_r^e*H_r^e*H_r^l*V_t^l - V_r^e*H_r^e*H_t^l*V_r^l - V_r^e*H_r^e*H_t^l*V_t^l + V_r^e*H_r^e*V_r^l*H_r^l + V_r^e*H_r^e*V_r^l*H_t^l + V_r^e*H_r^e*V_t^l*H_r^l + V_r^e*H_r^e*V_t^l*H_t^l - V_r^e*H_t^e*H_r^l*V_r^l - V_r^e*H_t^e*H_r^l*V_t^l - V_r^e*H_t^e*H_t^l*V_r^l - V_r^e*H_t^e*H_t^l*V_t^l + V_r^e*H_t^e*V_r^l*H_r^l + V_r^e*H_t^e*V_r^l*H_t^l + V_r^e*H_t^e*V_t^l*H_r^l + V_r^e*H_t^e*V_t^l*H_t^l - V_t^e*H_r^e*H_r^l*V_r^l - V_t^e*H_r^e*H_r^l*V_t^l - V_t^e*H_r^e*H_t^l*V_r^l - V_t^e*H_r^e*H_t^l*V_t^l + V_t^e*H_r^e*V_r^l*H_r^l + V_t^e*H_r^e*V_r^l*H_t^l + V_t^e*H_r^e*V_t^l*H_r^l + V_t^e*H_r^e*V_t^l*H_t^l - V_t^e*H_t^e*H_r^l*V_r^l - V_t^e*H_t^e*H_r^l*V_t^l - V_t^e*H_t^e*H_t^l*V_r^l - V_t^e*H_t^e*H_t^l*V_t^l + V_t^e*H_t^e*V_r^l*H_r^l + V_t^e*H_t^e*V_r^l*H_t^l + V_t^e*H_t^e*V_t^l*H_r^l + V_t^e*H_t^e*V_t^l*H_t^l)/8"
      ]
     },
     "metadata": {},
     "output_type": "display_data"
    }
   ],
   "source": [
    "\n",
    "psi_minus_m1     = psi_minus_e * psi_minus_l\n",
    "psi_bs_m1        = psi_minus_m1.subs({He: H_transform_e, Ve: V_transform_e, Hl: H_transform_l, Vl: V_transform_l})\n",
    "\n",
    "display(simplify(expand(psi_bs_m1)))\n"
   ]
  },
  {
   "cell_type": "markdown",
   "id": "f34952c8-a7c2-415e-bfa9-62dfa18176b5",
   "metadata": {},
   "source": [
    "### Method 2"
   ]
  },
  {
   "cell_type": "code",
   "execution_count": 4,
   "id": "d164b515-b325-476b-8066-a2ca22a43436",
   "metadata": {},
   "outputs": [
    {
     "data": {
      "text/latex": [
       "$\\displaystyle \\frac{H^{e}_{r} V^{e}_{r} H^{l}_{r} V^{l}_{r} + H^{e}_{r} V^{e}_{r} H^{l}_{r} V^{l}_{t} + H^{e}_{r} V^{e}_{r} H^{l}_{t} V^{l}_{r} + H^{e}_{r} V^{e}_{r} H^{l}_{t} V^{l}_{t} - H^{e}_{r} V^{e}_{r} V^{l}_{r} H^{l}_{r} - H^{e}_{r} V^{e}_{r} V^{l}_{r} H^{l}_{t} - H^{e}_{r} V^{e}_{r} V^{l}_{t} H^{l}_{r} - H^{e}_{r} V^{e}_{r} V^{l}_{t} H^{l}_{t} + H^{e}_{r} V^{e}_{t} H^{l}_{r} V^{l}_{r} + H^{e}_{r} V^{e}_{t} H^{l}_{r} V^{l}_{t} + H^{e}_{r} V^{e}_{t} H^{l}_{t} V^{l}_{r} + H^{e}_{r} V^{e}_{t} H^{l}_{t} V^{l}_{t} - H^{e}_{r} V^{e}_{t} V^{l}_{r} H^{l}_{r} - H^{e}_{r} V^{e}_{t} V^{l}_{r} H^{l}_{t} - H^{e}_{r} V^{e}_{t} V^{l}_{t} H^{l}_{r} - H^{e}_{r} V^{e}_{t} V^{l}_{t} H^{l}_{t} + H^{e}_{t} V^{e}_{r} H^{l}_{r} V^{l}_{r} + H^{e}_{t} V^{e}_{r} H^{l}_{r} V^{l}_{t} + H^{e}_{t} V^{e}_{r} H^{l}_{t} V^{l}_{r} + H^{e}_{t} V^{e}_{r} H^{l}_{t} V^{l}_{t} - H^{e}_{t} V^{e}_{r} V^{l}_{r} H^{l}_{r} - H^{e}_{t} V^{e}_{r} V^{l}_{r} H^{l}_{t} - H^{e}_{t} V^{e}_{r} V^{l}_{t} H^{l}_{r} - H^{e}_{t} V^{e}_{r} V^{l}_{t} H^{l}_{t} + H^{e}_{t} V^{e}_{t} H^{l}_{r} V^{l}_{r} + H^{e}_{t} V^{e}_{t} H^{l}_{r} V^{l}_{t} + H^{e}_{t} V^{e}_{t} H^{l}_{t} V^{l}_{r} + H^{e}_{t} V^{e}_{t} H^{l}_{t} V^{l}_{t} - H^{e}_{t} V^{e}_{t} V^{l}_{r} H^{l}_{r} - H^{e}_{t} V^{e}_{t} V^{l}_{r} H^{l}_{t} - H^{e}_{t} V^{e}_{t} V^{l}_{t} H^{l}_{r} - H^{e}_{t} V^{e}_{t} V^{l}_{t} H^{l}_{t} - V^{e}_{r} H^{e}_{r} H^{l}_{r} V^{l}_{r} - V^{e}_{r} H^{e}_{r} H^{l}_{r} V^{l}_{t} - V^{e}_{r} H^{e}_{r} H^{l}_{t} V^{l}_{r} - V^{e}_{r} H^{e}_{r} H^{l}_{t} V^{l}_{t} + V^{e}_{r} H^{e}_{r} V^{l}_{r} H^{l}_{r} + V^{e}_{r} H^{e}_{r} V^{l}_{r} H^{l}_{t} + V^{e}_{r} H^{e}_{r} V^{l}_{t} H^{l}_{r} + V^{e}_{r} H^{e}_{r} V^{l}_{t} H^{l}_{t} - V^{e}_{r} H^{e}_{t} H^{l}_{r} V^{l}_{r} - V^{e}_{r} H^{e}_{t} H^{l}_{r} V^{l}_{t} - V^{e}_{r} H^{e}_{t} H^{l}_{t} V^{l}_{r} - V^{e}_{r} H^{e}_{t} H^{l}_{t} V^{l}_{t} + V^{e}_{r} H^{e}_{t} V^{l}_{r} H^{l}_{r} + V^{e}_{r} H^{e}_{t} V^{l}_{r} H^{l}_{t} + V^{e}_{r} H^{e}_{t} V^{l}_{t} H^{l}_{r} + V^{e}_{r} H^{e}_{t} V^{l}_{t} H^{l}_{t} - V^{e}_{t} H^{e}_{r} H^{l}_{r} V^{l}_{r} - V^{e}_{t} H^{e}_{r} H^{l}_{r} V^{l}_{t} - V^{e}_{t} H^{e}_{r} H^{l}_{t} V^{l}_{r} - V^{e}_{t} H^{e}_{r} H^{l}_{t} V^{l}_{t} + V^{e}_{t} H^{e}_{r} V^{l}_{r} H^{l}_{r} + V^{e}_{t} H^{e}_{r} V^{l}_{r} H^{l}_{t} + V^{e}_{t} H^{e}_{r} V^{l}_{t} H^{l}_{r} + V^{e}_{t} H^{e}_{r} V^{l}_{t} H^{l}_{t} - V^{e}_{t} H^{e}_{t} H^{l}_{r} V^{l}_{r} - V^{e}_{t} H^{e}_{t} H^{l}_{r} V^{l}_{t} - V^{e}_{t} H^{e}_{t} H^{l}_{t} V^{l}_{r} - V^{e}_{t} H^{e}_{t} H^{l}_{t} V^{l}_{t} + V^{e}_{t} H^{e}_{t} V^{l}_{r} H^{l}_{r} + V^{e}_{t} H^{e}_{t} V^{l}_{r} H^{l}_{t} + V^{e}_{t} H^{e}_{t} V^{l}_{t} H^{l}_{r} + V^{e}_{t} H^{e}_{t} V^{l}_{t} H^{l}_{t}}{8}$"
      ],
      "text/plain": [
       "(H_r^e*V_r^e*H_r^l*V_r^l + H_r^e*V_r^e*H_r^l*V_t^l + H_r^e*V_r^e*H_t^l*V_r^l + H_r^e*V_r^e*H_t^l*V_t^l - H_r^e*V_r^e*V_r^l*H_r^l - H_r^e*V_r^e*V_r^l*H_t^l - H_r^e*V_r^e*V_t^l*H_r^l - H_r^e*V_r^e*V_t^l*H_t^l + H_r^e*V_t^e*H_r^l*V_r^l + H_r^e*V_t^e*H_r^l*V_t^l + H_r^e*V_t^e*H_t^l*V_r^l + H_r^e*V_t^e*H_t^l*V_t^l - H_r^e*V_t^e*V_r^l*H_r^l - H_r^e*V_t^e*V_r^l*H_t^l - H_r^e*V_t^e*V_t^l*H_r^l - H_r^e*V_t^e*V_t^l*H_t^l + H_t^e*V_r^e*H_r^l*V_r^l + H_t^e*V_r^e*H_r^l*V_t^l + H_t^e*V_r^e*H_t^l*V_r^l + H_t^e*V_r^e*H_t^l*V_t^l - H_t^e*V_r^e*V_r^l*H_r^l - H_t^e*V_r^e*V_r^l*H_t^l - H_t^e*V_r^e*V_t^l*H_r^l - H_t^e*V_r^e*V_t^l*H_t^l + H_t^e*V_t^e*H_r^l*V_r^l + H_t^e*V_t^e*H_r^l*V_t^l + H_t^e*V_t^e*H_t^l*V_r^l + H_t^e*V_t^e*H_t^l*V_t^l - H_t^e*V_t^e*V_r^l*H_r^l - H_t^e*V_t^e*V_r^l*H_t^l - H_t^e*V_t^e*V_t^l*H_r^l - H_t^e*V_t^e*V_t^l*H_t^l - V_r^e*H_r^e*H_r^l*V_r^l - V_r^e*H_r^e*H_r^l*V_t^l - V_r^e*H_r^e*H_t^l*V_r^l - V_r^e*H_r^e*H_t^l*V_t^l + V_r^e*H_r^e*V_r^l*H_r^l + V_r^e*H_r^e*V_r^l*H_t^l + V_r^e*H_r^e*V_t^l*H_r^l + V_r^e*H_r^e*V_t^l*H_t^l - V_r^e*H_t^e*H_r^l*V_r^l - V_r^e*H_t^e*H_r^l*V_t^l - V_r^e*H_t^e*H_t^l*V_r^l - V_r^e*H_t^e*H_t^l*V_t^l + V_r^e*H_t^e*V_r^l*H_r^l + V_r^e*H_t^e*V_r^l*H_t^l + V_r^e*H_t^e*V_t^l*H_r^l + V_r^e*H_t^e*V_t^l*H_t^l - V_t^e*H_r^e*H_r^l*V_r^l - V_t^e*H_r^e*H_r^l*V_t^l - V_t^e*H_r^e*H_t^l*V_r^l - V_t^e*H_r^e*H_t^l*V_t^l + V_t^e*H_r^e*V_r^l*H_r^l + V_t^e*H_r^e*V_r^l*H_t^l + V_t^e*H_r^e*V_t^l*H_r^l + V_t^e*H_r^e*V_t^l*H_t^l - V_t^e*H_t^e*H_r^l*V_r^l - V_t^e*H_t^e*H_r^l*V_t^l - V_t^e*H_t^e*H_t^l*V_r^l - V_t^e*H_t^e*H_t^l*V_t^l + V_t^e*H_t^e*V_r^l*H_r^l + V_t^e*H_t^e*V_r^l*H_t^l + V_t^e*H_t^e*V_t^l*H_r^l + V_t^e*H_t^e*V_t^l*H_t^l)/8"
      ]
     },
     "metadata": {},
     "output_type": "display_data"
    }
   ],
   "source": [
    "\n",
    "psi_bs_applied_e = psi_minus_e.subs({He: H_transform_e, Ve: V_transform_e})\n",
    "psi_bs_applied_l = psi_minus_l.subs({Hl: H_transform_l, Vl: V_transform_l})\n",
    "\n",
    "psi_minus_m2     = psi_bs_applied_e * psi_bs_applied_l\n",
    "psi_bs_m2        = psi_minus_m2\n",
    "display(simplify(expand(psi_bs_m2)))\n"
   ]
  },
  {
   "cell_type": "code",
   "execution_count": 5,
   "id": "8233557b-8ebf-4a09-87fc-263acaecc435",
   "metadata": {},
   "outputs": [
    {
     "name": "stdout",
     "output_type": "stream",
     "text": [
      "True\n"
     ]
    }
   ],
   "source": [
    "\n",
    "print(psi_bs_m1 == psi_bs_m2)\n"
   ]
  },
  {
   "cell_type": "code",
   "execution_count": 6,
   "id": "3714ff55-11d0-4913-b0a1-c8b48095a3ad",
   "metadata": {},
   "outputs": [
    {
     "data": {
      "text/latex": [
       "$\\displaystyle 0$"
      ],
      "text/plain": [
       "0"
      ]
     },
     "metadata": {},
     "output_type": "display_data"
    }
   ],
   "source": [
    "diff_expr = simplify(expand(psi_bs_m1 - psi_bs_m2))\n",
    "display(diff_expr)"
   ]
  }
 ],
 "metadata": {
  "kernelspec": {
   "display_name": "Python 3 (ipykernel)",
   "language": "python",
   "name": "python3"
  },
  "language_info": {
   "codemirror_mode": {
    "name": "ipython",
    "version": 3
   },
   "file_extension": ".py",
   "mimetype": "text/x-python",
   "name": "python",
   "nbconvert_exporter": "python",
   "pygments_lexer": "ipython3",
   "version": "3.12.3"
  }
 },
 "nbformat": 4,
 "nbformat_minor": 5
}
