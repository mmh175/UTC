{
 "cells": [
  {
   "cell_type": "markdown",
   "id": "99471a3f-06fc-4e6e-9329-95e4f5a913ed",
   "metadata": {},
   "source": [
    "## Non-interacting_4-photon_States\n",
    "\n",
    "This is a project to get all 4-photon states when __two__ entangled photon pairs, __very close__ to each other, incident upon __only one arm__ of a beam splitter (input: 1) and get either transmitted or reflected. Then, we will filter out the symmetric cases (2 transmitted, 2 reflected). \n"
   ]
  },
  {
   "cell_type": "code",
   "execution_count": 1,
   "id": "1ff44319-1288-40a8-8190-5ec62dafe82d",
   "metadata": {},
   "outputs": [],
   "source": [
    "import numpy as np\n",
    "from sympy import *\n",
    "from IPython.display import display, Latex"
   ]
  },
  {
   "cell_type": "markdown",
   "id": "9eae0225-8249-42f3-a80c-e65d543962ff",
   "metadata": {},
   "source": [
    "\n",
    "- `commutative=False` means $H_e \\; V_e  \\neq V_e \\; He$\n",
    "- `Rational( , )` is from the __sympy__ package, for better display: $0.707 \\rightarrow \\frac{1}{\\sqrt{2}}$\n",
    "- `.subs()` is a __sympy__ function, for substituing a variable: $H_e \\rightarrow \\frac{1}{\\sqrt{2}}(H_t^e + H_r^e)$\n",
    "- `simplify()` is a __sympy__ function, foralgebric simplification: $\\frac{x^2 + 2x}{x} \\rightarrow x+2$ "
   ]
  },
  {
   "cell_type": "code",
   "execution_count": 2,
   "id": "a672a8d5-e26d-4af9-8512-a40d03eb44f6",
   "metadata": {},
   "outputs": [
    {
     "data": {
      "text/latex": [
       "$\\psi^-_{\\text{early,transformed}} = \\frac{\\sqrt{2} \\left(H^{e}_{r} V^{e}_{r} + H^{e}_{r} V^{e}_{t} + H^{e}_{t} V^{e}_{r} + H^{e}_{t} V^{e}_{t} - V^{e}_{r} H^{e}_{r} - V^{e}_{r} H^{e}_{t} - V^{e}_{t} H^{e}_{r} - V^{e}_{t} H^{e}_{t}\\right)}{4}$"
      ],
      "text/plain": [
       "<IPython.core.display.Latex object>"
      ]
     },
     "metadata": {},
     "output_type": "display_data"
    },
    {
     "data": {
      "text/latex": [
       "$\\psi^-_{\\text{later,transformed}} = \\frac{\\sqrt{2} \\left(H^{l}_{r} V^{l}_{r} + H^{l}_{r} V^{l}_{t} + H^{l}_{t} V^{l}_{r} + H^{l}_{t} V^{l}_{t} - V^{l}_{r} H^{l}_{r} - V^{l}_{r} H^{l}_{t} - V^{l}_{t} H^{l}_{r} - V^{l}_{t} H^{l}_{t}\\right)}{4}$"
      ],
      "text/plain": [
       "<IPython.core.display.Latex object>"
      ]
     },
     "metadata": {},
     "output_type": "display_data"
    },
    {
     "data": {
      "text/latex": [
       "$\\psi^-_{\\text{BS1}} = \\frac{H^{e}_{r} V^{e}_{r} H^{l}_{r} V^{l}_{r} + H^{e}_{r} V^{e}_{r} H^{l}_{r} V^{l}_{t} + H^{e}_{r} V^{e}_{r} H^{l}_{t} V^{l}_{r} + H^{e}_{r} V^{e}_{r} H^{l}_{t} V^{l}_{t} - H^{e}_{r} V^{e}_{r} V^{l}_{r} H^{l}_{r} - H^{e}_{r} V^{e}_{r} V^{l}_{r} H^{l}_{t} - H^{e}_{r} V^{e}_{r} V^{l}_{t} H^{l}_{r} - H^{e}_{r} V^{e}_{r} V^{l}_{t} H^{l}_{t} + H^{e}_{r} V^{e}_{t} H^{l}_{r} V^{l}_{r} + H^{e}_{r} V^{e}_{t} H^{l}_{r} V^{l}_{t} + H^{e}_{r} V^{e}_{t} H^{l}_{t} V^{l}_{r} + H^{e}_{r} V^{e}_{t} H^{l}_{t} V^{l}_{t} - H^{e}_{r} V^{e}_{t} V^{l}_{r} H^{l}_{r} - H^{e}_{r} V^{e}_{t} V^{l}_{r} H^{l}_{t} - H^{e}_{r} V^{e}_{t} V^{l}_{t} H^{l}_{r} - H^{e}_{r} V^{e}_{t} V^{l}_{t} H^{l}_{t} + H^{e}_{t} V^{e}_{r} H^{l}_{r} V^{l}_{r} + H^{e}_{t} V^{e}_{r} H^{l}_{r} V^{l}_{t} + H^{e}_{t} V^{e}_{r} H^{l}_{t} V^{l}_{r} + H^{e}_{t} V^{e}_{r} H^{l}_{t} V^{l}_{t} - H^{e}_{t} V^{e}_{r} V^{l}_{r} H^{l}_{r} - H^{e}_{t} V^{e}_{r} V^{l}_{r} H^{l}_{t} - H^{e}_{t} V^{e}_{r} V^{l}_{t} H^{l}_{r} - H^{e}_{t} V^{e}_{r} V^{l}_{t} H^{l}_{t} + H^{e}_{t} V^{e}_{t} H^{l}_{r} V^{l}_{r} + H^{e}_{t} V^{e}_{t} H^{l}_{r} V^{l}_{t} + H^{e}_{t} V^{e}_{t} H^{l}_{t} V^{l}_{r} + H^{e}_{t} V^{e}_{t} H^{l}_{t} V^{l}_{t} - H^{e}_{t} V^{e}_{t} V^{l}_{r} H^{l}_{r} - H^{e}_{t} V^{e}_{t} V^{l}_{r} H^{l}_{t} - H^{e}_{t} V^{e}_{t} V^{l}_{t} H^{l}_{r} - H^{e}_{t} V^{e}_{t} V^{l}_{t} H^{l}_{t} - V^{e}_{r} H^{e}_{r} H^{l}_{r} V^{l}_{r} - V^{e}_{r} H^{e}_{r} H^{l}_{r} V^{l}_{t} - V^{e}_{r} H^{e}_{r} H^{l}_{t} V^{l}_{r} - V^{e}_{r} H^{e}_{r} H^{l}_{t} V^{l}_{t} + V^{e}_{r} H^{e}_{r} V^{l}_{r} H^{l}_{r} + V^{e}_{r} H^{e}_{r} V^{l}_{r} H^{l}_{t} + V^{e}_{r} H^{e}_{r} V^{l}_{t} H^{l}_{r} + V^{e}_{r} H^{e}_{r} V^{l}_{t} H^{l}_{t} - V^{e}_{r} H^{e}_{t} H^{l}_{r} V^{l}_{r} - V^{e}_{r} H^{e}_{t} H^{l}_{r} V^{l}_{t} - V^{e}_{r} H^{e}_{t} H^{l}_{t} V^{l}_{r} - V^{e}_{r} H^{e}_{t} H^{l}_{t} V^{l}_{t} + V^{e}_{r} H^{e}_{t} V^{l}_{r} H^{l}_{r} + V^{e}_{r} H^{e}_{t} V^{l}_{r} H^{l}_{t} + V^{e}_{r} H^{e}_{t} V^{l}_{t} H^{l}_{r} + V^{e}_{r} H^{e}_{t} V^{l}_{t} H^{l}_{t} - V^{e}_{t} H^{e}_{r} H^{l}_{r} V^{l}_{r} - V^{e}_{t} H^{e}_{r} H^{l}_{r} V^{l}_{t} - V^{e}_{t} H^{e}_{r} H^{l}_{t} V^{l}_{r} - V^{e}_{t} H^{e}_{r} H^{l}_{t} V^{l}_{t} + V^{e}_{t} H^{e}_{r} V^{l}_{r} H^{l}_{r} + V^{e}_{t} H^{e}_{r} V^{l}_{r} H^{l}_{t} + V^{e}_{t} H^{e}_{r} V^{l}_{t} H^{l}_{r} + V^{e}_{t} H^{e}_{r} V^{l}_{t} H^{l}_{t} - V^{e}_{t} H^{e}_{t} H^{l}_{r} V^{l}_{r} - V^{e}_{t} H^{e}_{t} H^{l}_{r} V^{l}_{t} - V^{e}_{t} H^{e}_{t} H^{l}_{t} V^{l}_{r} - V^{e}_{t} H^{e}_{t} H^{l}_{t} V^{l}_{t} + V^{e}_{t} H^{e}_{t} V^{l}_{r} H^{l}_{r} + V^{e}_{t} H^{e}_{t} V^{l}_{r} H^{l}_{t} + V^{e}_{t} H^{e}_{t} V^{l}_{t} H^{l}_{r} + V^{e}_{t} H^{e}_{t} V^{l}_{t} H^{l}_{t}}{8}$"
      ],
      "text/plain": [
       "<IPython.core.display.Latex object>"
      ]
     },
     "metadata": {},
     "output_type": "display_data"
    }
   ],
   "source": [
    "\n",
    "# list of symbolic representation\n",
    "He, Hl, Ve, Vl, Hte, Hre, Htl, Hrl, Vte, Vre, Vtl, Vrl, = symbols('H^e H^l V^e V^l H_t^e H_r^e H_t^l H_r^l V_t^e V_r^e V_t^l V_r^l', commutative=False)\n",
    "\n",
    "#for simplication in the output display format\n",
    "sqrt_half = Rational(1,2)**Rational(1,2)\n",
    "\n",
    "psi_minus_early  = sqrt_half * (He * Ve - Ve * He)\n",
    "psi_minus_later  = sqrt_half * (Hl * Vl - Vl * Hl)\n",
    "\n",
    "H_transform_e    = sqrt_half * (Hte + Hre)\n",
    "V_transform_e    = sqrt_half * (Vte + Vre)\n",
    "\n",
    "H_transform_l    = sqrt_half * (Htl + Hrl)\n",
    "V_transform_l    = sqrt_half * (Vtl + Vrl)\n",
    "\n",
    "psi_bs_applied_e = psi_minus_early.subs({He: H_transform_e, Ve: V_transform_e})\n",
    "psi_bs_applied_l = psi_minus_later.subs({Hl: H_transform_l, Vl: V_transform_l})\n",
    "\n",
    "# Expand and simplify\n",
    "psi_bs_applied_e = simplify(expand(psi_bs_applied_e))\n",
    "psi_bs_applied_l = simplify(expand(psi_bs_applied_l))\n",
    "\n",
    "# Display result\n",
    "display(Latex(r'$\\psi^-_{\\text{early,transformed}} = ' + latex(psi_bs_applied_e) + r'$'))\n",
    "display(Latex(r'$\\psi^-_{\\text{later,transformed}} = ' + latex(psi_bs_applied_l) + r'$'))\n",
    "\n",
    "psi_minus_output_bs1 = psi_bs_applied_e * psi_bs_applied_l\n",
    "psi_minus_output_bs1 = simplify(expand(psi_minus_output_bs1))\n",
    "display(Latex(r'$\\psi^-_{\\text{BS1}} = ' + latex(psi_minus_output_bs1) + r'$'))\n"
   ]
  },
  {
   "cell_type": "markdown",
   "id": "b7a1e01c-b6c3-4d87-9488-fe8d3c01b0d8",
   "metadata": {},
   "source": [
    "## Filtering the symmetry outputs\n",
    "\n",
    "We got 64 states. \n",
    "\n",
    "- `str()` is a built in __python__ package function converts the sympy symbols back to string, consistes of letters: $H_r^e \\rightarrow$ H_r^e\n",
    "- `expand()` is a __sympy__ function to expand __products, powers, distributions__ : $(a+b)^2 \\rightarrow a^2 + 2ab + b^2$ [kinda opposite to `simplify()`]\n",
    "- `.args` belongs to __sympy__, gives you the pieces being added\n",
    "- `Add( , )` is a __sympy__ function, corresponds to symbolic addition expression class: `Add(x, y, z) = x+y+z`\n",
    "- `isinstance( , )` is a built in __python__ library function, that can work with another function from another library. Here, it is in the format: `isinstance(terms, Add)`. This first checks if there are elements in`terms` are related by __sum__. If so, _each_ of these are treated as list elements. If there is no `+` found, the whole element would be listed as a single element (special case). "
   ]
  },
  {
   "cell_type": "code",
   "execution_count": 3,
   "id": "760cd1fb-4d43-4d5e-aae5-0262610bb559",
   "metadata": {
    "scrolled": true
   },
   "outputs": [
    {
     "data": {
      "text/latex": [
       "$\\psi^-_{\\text{BS1, even\\ terms}} = \\frac{H^{e}_{r} V^{e}_{r} H^{l}_{t} V^{l}_{t} - H^{e}_{r} V^{e}_{r} V^{l}_{t} H^{l}_{t} + H^{e}_{r} V^{e}_{t} H^{l}_{r} V^{l}_{t} + H^{e}_{r} V^{e}_{t} H^{l}_{t} V^{l}_{r} - H^{e}_{r} V^{e}_{t} V^{l}_{r} H^{l}_{t} - H^{e}_{r} V^{e}_{t} V^{l}_{t} H^{l}_{r} + H^{e}_{t} V^{e}_{r} H^{l}_{r} V^{l}_{t} + H^{e}_{t} V^{e}_{r} H^{l}_{t} V^{l}_{r} - H^{e}_{t} V^{e}_{r} V^{l}_{r} H^{l}_{t} - H^{e}_{t} V^{e}_{r} V^{l}_{t} H^{l}_{r} + H^{e}_{t} V^{e}_{t} H^{l}_{r} V^{l}_{r} - H^{e}_{t} V^{e}_{t} V^{l}_{r} H^{l}_{r} - V^{e}_{r} H^{e}_{r} H^{l}_{t} V^{l}_{t} + V^{e}_{r} H^{e}_{r} V^{l}_{t} H^{l}_{t} - V^{e}_{r} H^{e}_{t} H^{l}_{r} V^{l}_{t} - V^{e}_{r} H^{e}_{t} H^{l}_{t} V^{l}_{r} + V^{e}_{r} H^{e}_{t} V^{l}_{r} H^{l}_{t} + V^{e}_{r} H^{e}_{t} V^{l}_{t} H^{l}_{r} - V^{e}_{t} H^{e}_{r} H^{l}_{r} V^{l}_{t} - V^{e}_{t} H^{e}_{r} H^{l}_{t} V^{l}_{r} + V^{e}_{t} H^{e}_{r} V^{l}_{r} H^{l}_{t} + V^{e}_{t} H^{e}_{r} V^{l}_{t} H^{l}_{r} - V^{e}_{t} H^{e}_{t} H^{l}_{r} V^{l}_{r} + V^{e}_{t} H^{e}_{t} V^{l}_{r} H^{l}_{r}}{8}$"
      ],
      "text/plain": [
       "<IPython.core.display.Latex object>"
      ]
     },
     "metadata": {},
     "output_type": "display_data"
    }
   ],
   "source": [
    "\n",
    "import re as regex\n",
    "\n",
    "# Ensure fully expanded\n",
    "terms      = expand(psi_minus_output_bs1)\n",
    "term_list  = terms.args if isinstance(terms, Add) else [terms]\n",
    "\n",
    "# Count '_r^' and '_t^' using string methods (faster & simpler)\n",
    "def even_r_and_t_filter(τϵρμ):\n",
    "    τϵρμ_str = str(τϵρμ)\n",
    "    return τϵρμ_str.count('_r^') == 2 and τϵρμ_str.count('_t^') == 2\n",
    "\n",
    "# Filter terms: keep only those with 2 reflected + 2 transmitted photons\n",
    "# filtered_terms = [term for term in term_list if even_r_and_t_filter(term)]\n",
    "\n",
    "filtered_terms = []\n",
    "for i in term_list:\n",
    "    if even_r_and_t_filter(i):\n",
    "        filtered_terms.append(i)\n",
    "\n",
    "# Recombine and simplify\n",
    "even_terms = simplify(sum(filtered_terms))\n",
    "\n",
    "# Display\n",
    "display(Latex(r'$\\psi^-_{\\text{BS1, even\\ terms}} = ' + latex(even_terms) + r'$'))\n"
   ]
  },
  {
   "cell_type": "markdown",
   "id": "0c9d2ad1-2337-4300-9170-6f432ada265e",
   "metadata": {},
   "source": [
    "## Let's save the data in a CSV file using `pandas`\n",
    "\n",
    "- `.as_coeff_Mul()` is a __sympy__ library function. If `a = 3*x**2`, it works like: `b, c = a.as_ordered_terms() = [3, x**2]`"
   ]
  },
  {
   "cell_type": "code",
   "execution_count": 4,
   "id": "c56f105b-7881-4633-83fd-2cca7d08eea7",
   "metadata": {},
   "outputs": [
    {
     "name": "stdout",
     "output_type": "stream",
     "text": [
      "CSV saved as 'bs1_even_terms.csv'\n"
     ]
    }
   ],
   "source": [
    "\n",
    "import pandas as pd\n",
    "\n",
    "# Split even_terms into individual terms\n",
    "term_data = []\n",
    "\n",
    "for i in filtered_terms:\n",
    "    coeff, expr = i.as_coeff_Mul()  # Separate coefficient and symbolic part\n",
    "    term_data.append((str(expr), coeff))  # Store as (term string, coeff as Rational)\n",
    "\n",
    "# Create DataFrame\n",
    "df = pd.DataFrame(term_data, columns=['Term', 'Coefficient'])\n",
    "\n",
    "# Save as CSV\n",
    "df.to_csv(\"bs1_even_terms.csv\", index=False)\n",
    "print(\"CSV saved as 'bs1_even_terms.csv'\")\n"
   ]
  }
 ],
 "metadata": {
  "kernelspec": {
   "display_name": "Python (base)",
   "language": "python",
   "name": "base"
  },
  "language_info": {
   "codemirror_mode": {
    "name": "ipython",
    "version": 3
   },
   "file_extension": ".py",
   "mimetype": "text/x-python",
   "name": "python",
   "nbconvert_exporter": "python",
   "pygments_lexer": "ipython3",
   "version": "3.12.7"
  }
 },
 "nbformat": 4,
 "nbformat_minor": 5
}
