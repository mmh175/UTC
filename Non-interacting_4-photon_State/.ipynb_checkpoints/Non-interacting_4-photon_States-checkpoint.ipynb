{
 "cells": [
  {
   "cell_type": "markdown",
   "id": "99471a3f-06fc-4e6e-9329-95e4f5a913ed",
   "metadata": {},
   "source": [
    "## Non-interacting_4-photon_States\n",
    "\n",
    "This is a project to get all 4-photon states when __two__ entangled photon pairs, __very close__ to each other, incident upon __only one arm__ of a beam splitter (input: 1) and get either transmitted or reflected. Then, we will filter out the symmetric cases (2 transmitted, 2 reflected). \n"
   ]
  },
  {
   "cell_type": "code",
   "execution_count": 1,
   "id": "1ff44319-1288-40a8-8190-5ec62dafe82d",
   "metadata": {},
   "outputs": [],
   "source": [
    "import numpy as np\n",
    "from sympy import *\n",
    "from IPython.display import display, Latex"
   ]
  },
  {
   "cell_type": "markdown",
   "id": "9eae0225-8249-42f3-a80c-e65d543962ff",
   "metadata": {},
   "source": [
    "\n",
    "- `commutative=False` means $H_e \\; V_e  \\neq V_e \\; He$\n",
    "- `Rational( , )` is from the __sympy__ package, for better display: $0.707 \\rightarrow \\frac{1}{\\sqrt{2}}$\n",
    "- `.subs()` is a __sympy__ function, for substituing a variable: $H_e \\rightarrow \\frac{1}{\\sqrt{2}}(H_t^e + H_r^e)$\n",
    "- `simplify()` is a __sympy__ function, foralgebric simplification: $\\frac{x^2 + 2x}{x} \\rightarrow x+2$ "
   ]
  },
  {
   "cell_type": "code",
   "execution_count": 2,
   "id": "a672a8d5-e26d-4af9-8512-a40d03eb44f6",
   "metadata": {},
   "outputs": [
    {
     "data": {
      "text/latex": [
       "$\\psi^-_{\\text{early,transformed}} = \\frac{\\sqrt{2} \\left(H^{e}_{r} V^{e}_{r} + H^{e}_{r} V^{e}_{t} + H^{e}_{t} V^{e}_{r} + H^{e}_{t} V^{e}_{t} - V^{e}_{r} H^{e}_{r} - V^{e}_{r} H^{e}_{t} - V^{e}_{t} H^{e}_{r} - V^{e}_{t} H^{e}_{t}\\right)}{4}$"
      ],
      "text/plain": [
       "<IPython.core.display.Latex object>"
      ]
     },
     "metadata": {},
     "output_type": "display_data"
    },
    {
     "data": {
      "text/latex": [
       "$\\psi^-_{\\text{later,transformed}} = \\frac{\\sqrt{2} \\left(H^{l}_{r} V^{l}_{r} + H^{l}_{r} V^{l}_{t} + H^{l}_{t} V^{l}_{r} + H^{l}_{t} V^{l}_{t} - V^{l}_{r} H^{l}_{r} - V^{l}_{r} H^{l}_{t} - V^{l}_{t} H^{l}_{r} - V^{l}_{t} H^{l}_{t}\\right)}{4}$"
      ],
      "text/plain": [
       "<IPython.core.display.Latex object>"
      ]
     },
     "metadata": {},
     "output_type": "display_data"
    },
    {
     "data": {
      "text/latex": [
       "$\\psi^-_{\\text{BS1}} = \\frac{H^{e}_{r} V^{e}_{r} H^{l}_{r} V^{l}_{r} + H^{e}_{r} V^{e}_{r} H^{l}_{r} V^{l}_{t} + H^{e}_{r} V^{e}_{r} H^{l}_{t} V^{l}_{r} + H^{e}_{r} V^{e}_{r} H^{l}_{t} V^{l}_{t} - H^{e}_{r} V^{e}_{r} V^{l}_{r} H^{l}_{r} - H^{e}_{r} V^{e}_{r} V^{l}_{r} H^{l}_{t} - H^{e}_{r} V^{e}_{r} V^{l}_{t} H^{l}_{r} - H^{e}_{r} V^{e}_{r} V^{l}_{t} H^{l}_{t} + H^{e}_{r} V^{e}_{t} H^{l}_{r} V^{l}_{r} + H^{e}_{r} V^{e}_{t} H^{l}_{r} V^{l}_{t} + H^{e}_{r} V^{e}_{t} H^{l}_{t} V^{l}_{r} + H^{e}_{r} V^{e}_{t} H^{l}_{t} V^{l}_{t} - H^{e}_{r} V^{e}_{t} V^{l}_{r} H^{l}_{r} - H^{e}_{r} V^{e}_{t} V^{l}_{r} H^{l}_{t} - H^{e}_{r} V^{e}_{t} V^{l}_{t} H^{l}_{r} - H^{e}_{r} V^{e}_{t} V^{l}_{t} H^{l}_{t} + H^{e}_{t} V^{e}_{r} H^{l}_{r} V^{l}_{r} + H^{e}_{t} V^{e}_{r} H^{l}_{r} V^{l}_{t} + H^{e}_{t} V^{e}_{r} H^{l}_{t} V^{l}_{r} + H^{e}_{t} V^{e}_{r} H^{l}_{t} V^{l}_{t} - H^{e}_{t} V^{e}_{r} V^{l}_{r} H^{l}_{r} - H^{e}_{t} V^{e}_{r} V^{l}_{r} H^{l}_{t} - H^{e}_{t} V^{e}_{r} V^{l}_{t} H^{l}_{r} - H^{e}_{t} V^{e}_{r} V^{l}_{t} H^{l}_{t} + H^{e}_{t} V^{e}_{t} H^{l}_{r} V^{l}_{r} + H^{e}_{t} V^{e}_{t} H^{l}_{r} V^{l}_{t} + H^{e}_{t} V^{e}_{t} H^{l}_{t} V^{l}_{r} + H^{e}_{t} V^{e}_{t} H^{l}_{t} V^{l}_{t} - H^{e}_{t} V^{e}_{t} V^{l}_{r} H^{l}_{r} - H^{e}_{t} V^{e}_{t} V^{l}_{r} H^{l}_{t} - H^{e}_{t} V^{e}_{t} V^{l}_{t} H^{l}_{r} - H^{e}_{t} V^{e}_{t} V^{l}_{t} H^{l}_{t} - V^{e}_{r} H^{e}_{r} H^{l}_{r} V^{l}_{r} - V^{e}_{r} H^{e}_{r} H^{l}_{r} V^{l}_{t} - V^{e}_{r} H^{e}_{r} H^{l}_{t} V^{l}_{r} - V^{e}_{r} H^{e}_{r} H^{l}_{t} V^{l}_{t} + V^{e}_{r} H^{e}_{r} V^{l}_{r} H^{l}_{r} + V^{e}_{r} H^{e}_{r} V^{l}_{r} H^{l}_{t} + V^{e}_{r} H^{e}_{r} V^{l}_{t} H^{l}_{r} + V^{e}_{r} H^{e}_{r} V^{l}_{t} H^{l}_{t} - V^{e}_{r} H^{e}_{t} H^{l}_{r} V^{l}_{r} - V^{e}_{r} H^{e}_{t} H^{l}_{r} V^{l}_{t} - V^{e}_{r} H^{e}_{t} H^{l}_{t} V^{l}_{r} - V^{e}_{r} H^{e}_{t} H^{l}_{t} V^{l}_{t} + V^{e}_{r} H^{e}_{t} V^{l}_{r} H^{l}_{r} + V^{e}_{r} H^{e}_{t} V^{l}_{r} H^{l}_{t} + V^{e}_{r} H^{e}_{t} V^{l}_{t} H^{l}_{r} + V^{e}_{r} H^{e}_{t} V^{l}_{t} H^{l}_{t} - V^{e}_{t} H^{e}_{r} H^{l}_{r} V^{l}_{r} - V^{e}_{t} H^{e}_{r} H^{l}_{r} V^{l}_{t} - V^{e}_{t} H^{e}_{r} H^{l}_{t} V^{l}_{r} - V^{e}_{t} H^{e}_{r} H^{l}_{t} V^{l}_{t} + V^{e}_{t} H^{e}_{r} V^{l}_{r} H^{l}_{r} + V^{e}_{t} H^{e}_{r} V^{l}_{r} H^{l}_{t} + V^{e}_{t} H^{e}_{r} V^{l}_{t} H^{l}_{r} + V^{e}_{t} H^{e}_{r} V^{l}_{t} H^{l}_{t} - V^{e}_{t} H^{e}_{t} H^{l}_{r} V^{l}_{r} - V^{e}_{t} H^{e}_{t} H^{l}_{r} V^{l}_{t} - V^{e}_{t} H^{e}_{t} H^{l}_{t} V^{l}_{r} - V^{e}_{t} H^{e}_{t} H^{l}_{t} V^{l}_{t} + V^{e}_{t} H^{e}_{t} V^{l}_{r} H^{l}_{r} + V^{e}_{t} H^{e}_{t} V^{l}_{r} H^{l}_{t} + V^{e}_{t} H^{e}_{t} V^{l}_{t} H^{l}_{r} + V^{e}_{t} H^{e}_{t} V^{l}_{t} H^{l}_{t}}{8}$"
      ],
      "text/plain": [
       "<IPython.core.display.Latex object>"
      ]
     },
     "metadata": {},
     "output_type": "display_data"
    }
   ],
   "source": [
    "# list of symbolic representation\n",
    "# 'commutative=False' means He*Ve  =/= Ve*He\n",
    "He, Hl, Ve, Vl, Hte, Hre, Htl, Hrl, Vte, Vre, Vtl, Vrl, = symbols('H^e H^l V^e V^l H_t^e H_r^e H_t^l H_r^l V_t^e V_r^e V_t^l V_r^l', commutative=False)\n",
    "\n",
    "#for simplication in the output display format\n",
    "sqrt_half = Rational(1,2)**Rational(1,2)\n",
    "\n",
    "psi_minus_early  = sqrt_half * (He * Ve - Ve * He)\n",
    "psi_minus_later  = sqrt_half * (Hl * Vl - Vl * Hl)\n",
    "\n",
    "H_transform_e    = sqrt_half * (Hte + Hre)\n",
    "V_transform_e    = sqrt_half * (Vte + Vre)\n",
    "\n",
    "H_transform_l    = sqrt_half * (Htl + Hrl)\n",
    "V_transform_l    = sqrt_half * (Vtl + Vrl)\n",
    "\n",
    "psi_bs_applied_e = psi_minus_early.subs({He: H_transform_e, Ve: V_transform_e})\n",
    "psi_bs_applied_l = psi_minus_later.subs({Hl: H_transform_l, Vl: V_transform_l})\n",
    "\n",
    "# Expand and simplify\n",
    "psi_bs_applied_e = simplify(expand(psi_bs_applied_e))\n",
    "psi_bs_applied_l = simplify(expand(psi_bs_applied_l))\n",
    "\n",
    "# Display result\n",
    "display(Latex(r'$\\psi^-_{\\text{early,transformed}} = ' + latex(psi_bs_applied_e) + r'$'))\n",
    "display(Latex(r'$\\psi^-_{\\text{later,transformed}} = ' + latex(psi_bs_applied_l) + r'$'))\n",
    "\n",
    "psi_minus_output_bs1 = psi_bs_applied_e * psi_bs_applied_l\n",
    "psi_minus_output_bs1 = simplify(expand(psi_minus_output_bs1))\n",
    "display(Latex(r'$\\psi^-_{\\text{BS1}} = ' + latex(psi_minus_output_bs1) + r'$'))\n"
   ]
  },
  {
   "cell_type": "markdown",
   "id": "b7a1e01c-b6c3-4d87-9488-fe8d3c01b0d8",
   "metadata": {},
   "source": [
    "## Filtering the symmetry outputs\n",
    "\n",
    "We got 64 states. \n",
    "\n",
    "- `str()` is a built in __python__ package function converts the sympy symbols back to string, consistes of letters: $H_r^e \\rightarrow$ H_r^e\n",
    "- `expand()` is a __sympy__ function to expand __products, powers, distributions__ : $(a+b)^2 \\rightarrow a^2 + 2ab + b^2$ [kinda opposite to `simplify()`]"
   ]
  },
  {
   "cell_type": "code",
   "execution_count": 8,
   "id": "760cd1fb-4d43-4d5e-aae5-0262610bb559",
   "metadata": {
    "scrolled": true
   },
   "outputs": [
    {
     "data": {
      "text/latex": [
       "$\\psi^-_{\\text{BS1, even\\ terms}} = \\frac{H^{e}_{r} V^{e}_{r} H^{l}_{t} V^{l}_{t} - H^{e}_{r} V^{e}_{r} V^{l}_{t} H^{l}_{t} + H^{e}_{r} V^{e}_{t} H^{l}_{r} V^{l}_{t} + H^{e}_{r} V^{e}_{t} H^{l}_{t} V^{l}_{r} - H^{e}_{r} V^{e}_{t} V^{l}_{r} H^{l}_{t} - H^{e}_{r} V^{e}_{t} V^{l}_{t} H^{l}_{r} + H^{e}_{t} V^{e}_{r} H^{l}_{r} V^{l}_{t} + H^{e}_{t} V^{e}_{r} H^{l}_{t} V^{l}_{r} - H^{e}_{t} V^{e}_{r} V^{l}_{r} H^{l}_{t} - H^{e}_{t} V^{e}_{r} V^{l}_{t} H^{l}_{r} + H^{e}_{t} V^{e}_{t} H^{l}_{r} V^{l}_{r} - H^{e}_{t} V^{e}_{t} V^{l}_{r} H^{l}_{r} - V^{e}_{r} H^{e}_{r} H^{l}_{t} V^{l}_{t} + V^{e}_{r} H^{e}_{r} V^{l}_{t} H^{l}_{t} - V^{e}_{r} H^{e}_{t} H^{l}_{r} V^{l}_{t} - V^{e}_{r} H^{e}_{t} H^{l}_{t} V^{l}_{r} + V^{e}_{r} H^{e}_{t} V^{l}_{r} H^{l}_{t} + V^{e}_{r} H^{e}_{t} V^{l}_{t} H^{l}_{r} - V^{e}_{t} H^{e}_{r} H^{l}_{r} V^{l}_{t} - V^{e}_{t} H^{e}_{r} H^{l}_{t} V^{l}_{r} + V^{e}_{t} H^{e}_{r} V^{l}_{r} H^{l}_{t} + V^{e}_{t} H^{e}_{r} V^{l}_{t} H^{l}_{r} - V^{e}_{t} H^{e}_{t} H^{l}_{r} V^{l}_{r} + V^{e}_{t} H^{e}_{t} V^{l}_{r} H^{l}_{r}}{8}$"
      ],
      "text/plain": [
       "<IPython.core.display.Latex object>"
      ]
     },
     "metadata": {},
     "output_type": "display_data"
    }
   ],
   "source": [
    "# import functools, operator\n",
    "# import pandas as pd\n",
    "import re as regex\n",
    "\n",
    "# Count '_r^' and '_t^' using string methods (faster & simpler)\n",
    "def even_r_and_t_filter(term):\n",
    "    term_str = str(term)\n",
    "    return term_str.count('_r^') == 2 and term_str.count('_t^') == 2\n",
    "\n",
    "# Ensure fully expanded\n",
    "terms      = expand(psi_minus_output_bs1)\n",
    "term_list  = terms.args if isinstance(terms, Add) else [terms]\n",
    "\n",
    "# Filter terms: keep only those with 2 reflected + 2 transmitted photons\n",
    "filtered_terms = [term for term in term_list if even_r_and_t_filter(term)]\n",
    "\n",
    "# Recombine and simplify\n",
    "even_terms = simplify(sum(filtered_terms))\n",
    "\n",
    "# Display\n",
    "display(Latex(r'$\\psi^-_{\\text{BS1, even\\ terms}} = ' + latex(even_terms) + r'$'))\n"
   ]
  },
  {
   "cell_type": "code",
   "execution_count": 7,
   "id": "d3c39575-e5a0-40be-ab45-7839bea1451b",
   "metadata": {},
   "outputs": [
    {
     "data": {
      "text/latex": [
       "$\\displaystyle \\frac{H^{e}_{r} V^{e}_{r} H^{l}_{r} V^{l}_{r} + H^{e}_{r} V^{e}_{r} H^{l}_{r} V^{l}_{t} + H^{e}_{r} V^{e}_{r} H^{l}_{t} V^{l}_{r} + H^{e}_{r} V^{e}_{r} H^{l}_{t} V^{l}_{t} - H^{e}_{r} V^{e}_{r} V^{l}_{r} H^{l}_{r} - H^{e}_{r} V^{e}_{r} V^{l}_{r} H^{l}_{t} - H^{e}_{r} V^{e}_{r} V^{l}_{t} H^{l}_{r} - H^{e}_{r} V^{e}_{r} V^{l}_{t} H^{l}_{t} + H^{e}_{r} V^{e}_{t} H^{l}_{r} V^{l}_{r} + H^{e}_{r} V^{e}_{t} H^{l}_{r} V^{l}_{t} + H^{e}_{r} V^{e}_{t} H^{l}_{t} V^{l}_{r} + H^{e}_{r} V^{e}_{t} H^{l}_{t} V^{l}_{t} - H^{e}_{r} V^{e}_{t} V^{l}_{r} H^{l}_{r} - H^{e}_{r} V^{e}_{t} V^{l}_{r} H^{l}_{t} - H^{e}_{r} V^{e}_{t} V^{l}_{t} H^{l}_{r} - H^{e}_{r} V^{e}_{t} V^{l}_{t} H^{l}_{t} + H^{e}_{t} V^{e}_{r} H^{l}_{r} V^{l}_{r} + H^{e}_{t} V^{e}_{r} H^{l}_{r} V^{l}_{t} + H^{e}_{t} V^{e}_{r} H^{l}_{t} V^{l}_{r} + H^{e}_{t} V^{e}_{r} H^{l}_{t} V^{l}_{t} - H^{e}_{t} V^{e}_{r} V^{l}_{r} H^{l}_{r} - H^{e}_{t} V^{e}_{r} V^{l}_{r} H^{l}_{t} - H^{e}_{t} V^{e}_{r} V^{l}_{t} H^{l}_{r} - H^{e}_{t} V^{e}_{r} V^{l}_{t} H^{l}_{t} + H^{e}_{t} V^{e}_{t} H^{l}_{r} V^{l}_{r} + H^{e}_{t} V^{e}_{t} H^{l}_{r} V^{l}_{t} + H^{e}_{t} V^{e}_{t} H^{l}_{t} V^{l}_{r} + H^{e}_{t} V^{e}_{t} H^{l}_{t} V^{l}_{t} - H^{e}_{t} V^{e}_{t} V^{l}_{r} H^{l}_{r} - H^{e}_{t} V^{e}_{t} V^{l}_{r} H^{l}_{t} - H^{e}_{t} V^{e}_{t} V^{l}_{t} H^{l}_{r} - H^{e}_{t} V^{e}_{t} V^{l}_{t} H^{l}_{t} - V^{e}_{r} H^{e}_{r} H^{l}_{r} V^{l}_{r} - V^{e}_{r} H^{e}_{r} H^{l}_{r} V^{l}_{t} - V^{e}_{r} H^{e}_{r} H^{l}_{t} V^{l}_{r} - V^{e}_{r} H^{e}_{r} H^{l}_{t} V^{l}_{t} + V^{e}_{r} H^{e}_{r} V^{l}_{r} H^{l}_{r} + V^{e}_{r} H^{e}_{r} V^{l}_{r} H^{l}_{t} + V^{e}_{r} H^{e}_{r} V^{l}_{t} H^{l}_{r} + V^{e}_{r} H^{e}_{r} V^{l}_{t} H^{l}_{t} - V^{e}_{r} H^{e}_{t} H^{l}_{r} V^{l}_{r} - V^{e}_{r} H^{e}_{t} H^{l}_{r} V^{l}_{t} - V^{e}_{r} H^{e}_{t} H^{l}_{t} V^{l}_{r} - V^{e}_{r} H^{e}_{t} H^{l}_{t} V^{l}_{t} + V^{e}_{r} H^{e}_{t} V^{l}_{r} H^{l}_{r} + V^{e}_{r} H^{e}_{t} V^{l}_{r} H^{l}_{t} + V^{e}_{r} H^{e}_{t} V^{l}_{t} H^{l}_{r} + V^{e}_{r} H^{e}_{t} V^{l}_{t} H^{l}_{t} - V^{e}_{t} H^{e}_{r} H^{l}_{r} V^{l}_{r} - V^{e}_{t} H^{e}_{r} H^{l}_{r} V^{l}_{t} - V^{e}_{t} H^{e}_{r} H^{l}_{t} V^{l}_{r} - V^{e}_{t} H^{e}_{r} H^{l}_{t} V^{l}_{t} + V^{e}_{t} H^{e}_{r} V^{l}_{r} H^{l}_{r} + V^{e}_{t} H^{e}_{r} V^{l}_{r} H^{l}_{t} + V^{e}_{t} H^{e}_{r} V^{l}_{t} H^{l}_{r} + V^{e}_{t} H^{e}_{r} V^{l}_{t} H^{l}_{t} - V^{e}_{t} H^{e}_{t} H^{l}_{r} V^{l}_{r} - V^{e}_{t} H^{e}_{t} H^{l}_{r} V^{l}_{t} - V^{e}_{t} H^{e}_{t} H^{l}_{t} V^{l}_{r} - V^{e}_{t} H^{e}_{t} H^{l}_{t} V^{l}_{t} + V^{e}_{t} H^{e}_{t} V^{l}_{r} H^{l}_{r} + V^{e}_{t} H^{e}_{t} V^{l}_{r} H^{l}_{t} + V^{e}_{t} H^{e}_{t} V^{l}_{t} H^{l}_{r} + V^{e}_{t} H^{e}_{t} V^{l}_{t} H^{l}_{t}}{8}$"
      ],
      "text/plain": [
       "(H_r^e*V_r^e*H_r^l*V_r^l + H_r^e*V_r^e*H_r^l*V_t^l + H_r^e*V_r^e*H_t^l*V_r^l + H_r^e*V_r^e*H_t^l*V_t^l - H_r^e*V_r^e*V_r^l*H_r^l - H_r^e*V_r^e*V_r^l*H_t^l - H_r^e*V_r^e*V_t^l*H_r^l - H_r^e*V_r^e*V_t^l*H_t^l + H_r^e*V_t^e*H_r^l*V_r^l + H_r^e*V_t^e*H_r^l*V_t^l + H_r^e*V_t^e*H_t^l*V_r^l + H_r^e*V_t^e*H_t^l*V_t^l - H_r^e*V_t^e*V_r^l*H_r^l - H_r^e*V_t^e*V_r^l*H_t^l - H_r^e*V_t^e*V_t^l*H_r^l - H_r^e*V_t^e*V_t^l*H_t^l + H_t^e*V_r^e*H_r^l*V_r^l + H_t^e*V_r^e*H_r^l*V_t^l + H_t^e*V_r^e*H_t^l*V_r^l + H_t^e*V_r^e*H_t^l*V_t^l - H_t^e*V_r^e*V_r^l*H_r^l - H_t^e*V_r^e*V_r^l*H_t^l - H_t^e*V_r^e*V_t^l*H_r^l - H_t^e*V_r^e*V_t^l*H_t^l + H_t^e*V_t^e*H_r^l*V_r^l + H_t^e*V_t^e*H_r^l*V_t^l + H_t^e*V_t^e*H_t^l*V_r^l + H_t^e*V_t^e*H_t^l*V_t^l - H_t^e*V_t^e*V_r^l*H_r^l - H_t^e*V_t^e*V_r^l*H_t^l - H_t^e*V_t^e*V_t^l*H_r^l - H_t^e*V_t^e*V_t^l*H_t^l - V_r^e*H_r^e*H_r^l*V_r^l - V_r^e*H_r^e*H_r^l*V_t^l - V_r^e*H_r^e*H_t^l*V_r^l - V_r^e*H_r^e*H_t^l*V_t^l + V_r^e*H_r^e*V_r^l*H_r^l + V_r^e*H_r^e*V_r^l*H_t^l + V_r^e*H_r^e*V_t^l*H_r^l + V_r^e*H_r^e*V_t^l*H_t^l - V_r^e*H_t^e*H_r^l*V_r^l - V_r^e*H_t^e*H_r^l*V_t^l - V_r^e*H_t^e*H_t^l*V_r^l - V_r^e*H_t^e*H_t^l*V_t^l + V_r^e*H_t^e*V_r^l*H_r^l + V_r^e*H_t^e*V_r^l*H_t^l + V_r^e*H_t^e*V_t^l*H_r^l + V_r^e*H_t^e*V_t^l*H_t^l - V_t^e*H_r^e*H_r^l*V_r^l - V_t^e*H_r^e*H_r^l*V_t^l - V_t^e*H_r^e*H_t^l*V_r^l - V_t^e*H_r^e*H_t^l*V_t^l + V_t^e*H_r^e*V_r^l*H_r^l + V_t^e*H_r^e*V_r^l*H_t^l + V_t^e*H_r^e*V_t^l*H_r^l + V_t^e*H_r^e*V_t^l*H_t^l - V_t^e*H_t^e*H_r^l*V_r^l - V_t^e*H_t^e*H_r^l*V_t^l - V_t^e*H_t^e*H_t^l*V_r^l - V_t^e*H_t^e*H_t^l*V_t^l + V_t^e*H_t^e*V_r^l*H_r^l + V_t^e*H_t^e*V_r^l*H_t^l + V_t^e*H_t^e*V_t^l*H_r^l + V_t^e*H_t^e*V_t^l*H_t^l)/8"
      ]
     },
     "metadata": {},
     "output_type": "display_data"
    },
    {
     "data": {
      "text/latex": [
       "$\\displaystyle \\frac{H^{e}_{r} V^{e}_{r} H^{l}_{r} V^{l}_{r}}{8} + \\frac{H^{e}_{r} V^{e}_{r} H^{l}_{r} V^{l}_{t}}{8} + \\frac{H^{e}_{r} V^{e}_{r} H^{l}_{t} V^{l}_{r}}{8} + \\frac{H^{e}_{r} V^{e}_{r} H^{l}_{t} V^{l}_{t}}{8} - \\frac{H^{e}_{r} V^{e}_{r} V^{l}_{r} H^{l}_{r}}{8} - \\frac{H^{e}_{r} V^{e}_{r} V^{l}_{r} H^{l}_{t}}{8} - \\frac{H^{e}_{r} V^{e}_{r} V^{l}_{t} H^{l}_{r}}{8} - \\frac{H^{e}_{r} V^{e}_{r} V^{l}_{t} H^{l}_{t}}{8} + \\frac{H^{e}_{r} V^{e}_{t} H^{l}_{r} V^{l}_{r}}{8} + \\frac{H^{e}_{r} V^{e}_{t} H^{l}_{r} V^{l}_{t}}{8} + \\frac{H^{e}_{r} V^{e}_{t} H^{l}_{t} V^{l}_{r}}{8} + \\frac{H^{e}_{r} V^{e}_{t} H^{l}_{t} V^{l}_{t}}{8} - \\frac{H^{e}_{r} V^{e}_{t} V^{l}_{r} H^{l}_{r}}{8} - \\frac{H^{e}_{r} V^{e}_{t} V^{l}_{r} H^{l}_{t}}{8} - \\frac{H^{e}_{r} V^{e}_{t} V^{l}_{t} H^{l}_{r}}{8} - \\frac{H^{e}_{r} V^{e}_{t} V^{l}_{t} H^{l}_{t}}{8} + \\frac{H^{e}_{t} V^{e}_{r} H^{l}_{r} V^{l}_{r}}{8} + \\frac{H^{e}_{t} V^{e}_{r} H^{l}_{r} V^{l}_{t}}{8} + \\frac{H^{e}_{t} V^{e}_{r} H^{l}_{t} V^{l}_{r}}{8} + \\frac{H^{e}_{t} V^{e}_{r} H^{l}_{t} V^{l}_{t}}{8} - \\frac{H^{e}_{t} V^{e}_{r} V^{l}_{r} H^{l}_{r}}{8} - \\frac{H^{e}_{t} V^{e}_{r} V^{l}_{r} H^{l}_{t}}{8} - \\frac{H^{e}_{t} V^{e}_{r} V^{l}_{t} H^{l}_{r}}{8} - \\frac{H^{e}_{t} V^{e}_{r} V^{l}_{t} H^{l}_{t}}{8} + \\frac{H^{e}_{t} V^{e}_{t} H^{l}_{r} V^{l}_{r}}{8} + \\frac{H^{e}_{t} V^{e}_{t} H^{l}_{r} V^{l}_{t}}{8} + \\frac{H^{e}_{t} V^{e}_{t} H^{l}_{t} V^{l}_{r}}{8} + \\frac{H^{e}_{t} V^{e}_{t} H^{l}_{t} V^{l}_{t}}{8} - \\frac{H^{e}_{t} V^{e}_{t} V^{l}_{r} H^{l}_{r}}{8} - \\frac{H^{e}_{t} V^{e}_{t} V^{l}_{r} H^{l}_{t}}{8} - \\frac{H^{e}_{t} V^{e}_{t} V^{l}_{t} H^{l}_{r}}{8} - \\frac{H^{e}_{t} V^{e}_{t} V^{l}_{t} H^{l}_{t}}{8} - \\frac{V^{e}_{r} H^{e}_{r} H^{l}_{r} V^{l}_{r}}{8} - \\frac{V^{e}_{r} H^{e}_{r} H^{l}_{r} V^{l}_{t}}{8} - \\frac{V^{e}_{r} H^{e}_{r} H^{l}_{t} V^{l}_{r}}{8} - \\frac{V^{e}_{r} H^{e}_{r} H^{l}_{t} V^{l}_{t}}{8} + \\frac{V^{e}_{r} H^{e}_{r} V^{l}_{r} H^{l}_{r}}{8} + \\frac{V^{e}_{r} H^{e}_{r} V^{l}_{r} H^{l}_{t}}{8} + \\frac{V^{e}_{r} H^{e}_{r} V^{l}_{t} H^{l}_{r}}{8} + \\frac{V^{e}_{r} H^{e}_{r} V^{l}_{t} H^{l}_{t}}{8} - \\frac{V^{e}_{r} H^{e}_{t} H^{l}_{r} V^{l}_{r}}{8} - \\frac{V^{e}_{r} H^{e}_{t} H^{l}_{r} V^{l}_{t}}{8} - \\frac{V^{e}_{r} H^{e}_{t} H^{l}_{t} V^{l}_{r}}{8} - \\frac{V^{e}_{r} H^{e}_{t} H^{l}_{t} V^{l}_{t}}{8} + \\frac{V^{e}_{r} H^{e}_{t} V^{l}_{r} H^{l}_{r}}{8} + \\frac{V^{e}_{r} H^{e}_{t} V^{l}_{r} H^{l}_{t}}{8} + \\frac{V^{e}_{r} H^{e}_{t} V^{l}_{t} H^{l}_{r}}{8} + \\frac{V^{e}_{r} H^{e}_{t} V^{l}_{t} H^{l}_{t}}{8} - \\frac{V^{e}_{t} H^{e}_{r} H^{l}_{r} V^{l}_{r}}{8} - \\frac{V^{e}_{t} H^{e}_{r} H^{l}_{r} V^{l}_{t}}{8} - \\frac{V^{e}_{t} H^{e}_{r} H^{l}_{t} V^{l}_{r}}{8} - \\frac{V^{e}_{t} H^{e}_{r} H^{l}_{t} V^{l}_{t}}{8} + \\frac{V^{e}_{t} H^{e}_{r} V^{l}_{r} H^{l}_{r}}{8} + \\frac{V^{e}_{t} H^{e}_{r} V^{l}_{r} H^{l}_{t}}{8} + \\frac{V^{e}_{t} H^{e}_{r} V^{l}_{t} H^{l}_{r}}{8} + \\frac{V^{e}_{t} H^{e}_{r} V^{l}_{t} H^{l}_{t}}{8} - \\frac{V^{e}_{t} H^{e}_{t} H^{l}_{r} V^{l}_{r}}{8} - \\frac{V^{e}_{t} H^{e}_{t} H^{l}_{r} V^{l}_{t}}{8} - \\frac{V^{e}_{t} H^{e}_{t} H^{l}_{t} V^{l}_{r}}{8} - \\frac{V^{e}_{t} H^{e}_{t} H^{l}_{t} V^{l}_{t}}{8} + \\frac{V^{e}_{t} H^{e}_{t} V^{l}_{r} H^{l}_{r}}{8} + \\frac{V^{e}_{t} H^{e}_{t} V^{l}_{r} H^{l}_{t}}{8} + \\frac{V^{e}_{t} H^{e}_{t} V^{l}_{t} H^{l}_{r}}{8} + \\frac{V^{e}_{t} H^{e}_{t} V^{l}_{t} H^{l}_{t}}{8}$"
      ],
      "text/plain": [
       "H_r^e*V_r^e*H_r^l*V_r^l/8 + H_r^e*V_r^e*H_r^l*V_t^l/8 + H_r^e*V_r^e*H_t^l*V_r^l/8 + H_r^e*V_r^e*H_t^l*V_t^l/8 - H_r^e*V_r^e*V_r^l*H_r^l/8 - H_r^e*V_r^e*V_r^l*H_t^l/8 - H_r^e*V_r^e*V_t^l*H_r^l/8 - H_r^e*V_r^e*V_t^l*H_t^l/8 + H_r^e*V_t^e*H_r^l*V_r^l/8 + H_r^e*V_t^e*H_r^l*V_t^l/8 + H_r^e*V_t^e*H_t^l*V_r^l/8 + H_r^e*V_t^e*H_t^l*V_t^l/8 - H_r^e*V_t^e*V_r^l*H_r^l/8 - H_r^e*V_t^e*V_r^l*H_t^l/8 - H_r^e*V_t^e*V_t^l*H_r^l/8 - H_r^e*V_t^e*V_t^l*H_t^l/8 + H_t^e*V_r^e*H_r^l*V_r^l/8 + H_t^e*V_r^e*H_r^l*V_t^l/8 + H_t^e*V_r^e*H_t^l*V_r^l/8 + H_t^e*V_r^e*H_t^l*V_t^l/8 - H_t^e*V_r^e*V_r^l*H_r^l/8 - H_t^e*V_r^e*V_r^l*H_t^l/8 - H_t^e*V_r^e*V_t^l*H_r^l/8 - H_t^e*V_r^e*V_t^l*H_t^l/8 + H_t^e*V_t^e*H_r^l*V_r^l/8 + H_t^e*V_t^e*H_r^l*V_t^l/8 + H_t^e*V_t^e*H_t^l*V_r^l/8 + H_t^e*V_t^e*H_t^l*V_t^l/8 - H_t^e*V_t^e*V_r^l*H_r^l/8 - H_t^e*V_t^e*V_r^l*H_t^l/8 - H_t^e*V_t^e*V_t^l*H_r^l/8 - H_t^e*V_t^e*V_t^l*H_t^l/8 - V_r^e*H_r^e*H_r^l*V_r^l/8 - V_r^e*H_r^e*H_r^l*V_t^l/8 - V_r^e*H_r^e*H_t^l*V_r^l/8 - V_r^e*H_r^e*H_t^l*V_t^l/8 + V_r^e*H_r^e*V_r^l*H_r^l/8 + V_r^e*H_r^e*V_r^l*H_t^l/8 + V_r^e*H_r^e*V_t^l*H_r^l/8 + V_r^e*H_r^e*V_t^l*H_t^l/8 - V_r^e*H_t^e*H_r^l*V_r^l/8 - V_r^e*H_t^e*H_r^l*V_t^l/8 - V_r^e*H_t^e*H_t^l*V_r^l/8 - V_r^e*H_t^e*H_t^l*V_t^l/8 + V_r^e*H_t^e*V_r^l*H_r^l/8 + V_r^e*H_t^e*V_r^l*H_t^l/8 + V_r^e*H_t^e*V_t^l*H_r^l/8 + V_r^e*H_t^e*V_t^l*H_t^l/8 - V_t^e*H_r^e*H_r^l*V_r^l/8 - V_t^e*H_r^e*H_r^l*V_t^l/8 - V_t^e*H_r^e*H_t^l*V_r^l/8 - V_t^e*H_r^e*H_t^l*V_t^l/8 + V_t^e*H_r^e*V_r^l*H_r^l/8 + V_t^e*H_r^e*V_r^l*H_t^l/8 + V_t^e*H_r^e*V_t^l*H_r^l/8 + V_t^e*H_r^e*V_t^l*H_t^l/8 - V_t^e*H_t^e*H_r^l*V_r^l/8 - V_t^e*H_t^e*H_r^l*V_t^l/8 - V_t^e*H_t^e*H_t^l*V_r^l/8 - V_t^e*H_t^e*H_t^l*V_t^l/8 + V_t^e*H_t^e*V_r^l*H_r^l/8 + V_t^e*H_t^e*V_r^l*H_t^l/8 + V_t^e*H_t^e*V_t^l*H_r^l/8 + V_t^e*H_t^e*V_t^l*H_t^l/8"
      ]
     },
     "metadata": {},
     "output_type": "display_data"
    },
    {
     "data": {
      "text/latex": [
       "$\\displaystyle \\frac{H^{e}_{r} V^{e}_{r} H^{l}_{r} V^{l}_{r} + H^{e}_{r} V^{e}_{r} H^{l}_{r} V^{l}_{t} + H^{e}_{r} V^{e}_{r} H^{l}_{t} V^{l}_{r} + H^{e}_{r} V^{e}_{r} H^{l}_{t} V^{l}_{t} - H^{e}_{r} V^{e}_{r} V^{l}_{r} H^{l}_{r} - H^{e}_{r} V^{e}_{r} V^{l}_{r} H^{l}_{t} - H^{e}_{r} V^{e}_{r} V^{l}_{t} H^{l}_{r} - H^{e}_{r} V^{e}_{r} V^{l}_{t} H^{l}_{t} + H^{e}_{r} V^{e}_{t} H^{l}_{r} V^{l}_{r} + H^{e}_{r} V^{e}_{t} H^{l}_{r} V^{l}_{t} + H^{e}_{r} V^{e}_{t} H^{l}_{t} V^{l}_{r} + H^{e}_{r} V^{e}_{t} H^{l}_{t} V^{l}_{t} - H^{e}_{r} V^{e}_{t} V^{l}_{r} H^{l}_{r} - H^{e}_{r} V^{e}_{t} V^{l}_{r} H^{l}_{t} - H^{e}_{r} V^{e}_{t} V^{l}_{t} H^{l}_{r} - H^{e}_{r} V^{e}_{t} V^{l}_{t} H^{l}_{t} + H^{e}_{t} V^{e}_{r} H^{l}_{r} V^{l}_{r} + H^{e}_{t} V^{e}_{r} H^{l}_{r} V^{l}_{t} + H^{e}_{t} V^{e}_{r} H^{l}_{t} V^{l}_{r} + H^{e}_{t} V^{e}_{r} H^{l}_{t} V^{l}_{t} - H^{e}_{t} V^{e}_{r} V^{l}_{r} H^{l}_{r} - H^{e}_{t} V^{e}_{r} V^{l}_{r} H^{l}_{t} - H^{e}_{t} V^{e}_{r} V^{l}_{t} H^{l}_{r} - H^{e}_{t} V^{e}_{r} V^{l}_{t} H^{l}_{t} + H^{e}_{t} V^{e}_{t} H^{l}_{r} V^{l}_{r} + H^{e}_{t} V^{e}_{t} H^{l}_{r} V^{l}_{t} + H^{e}_{t} V^{e}_{t} H^{l}_{t} V^{l}_{r} + H^{e}_{t} V^{e}_{t} H^{l}_{t} V^{l}_{t} - H^{e}_{t} V^{e}_{t} V^{l}_{r} H^{l}_{r} - H^{e}_{t} V^{e}_{t} V^{l}_{r} H^{l}_{t} - H^{e}_{t} V^{e}_{t} V^{l}_{t} H^{l}_{r} - H^{e}_{t} V^{e}_{t} V^{l}_{t} H^{l}_{t} - V^{e}_{r} H^{e}_{r} H^{l}_{r} V^{l}_{r} - V^{e}_{r} H^{e}_{r} H^{l}_{r} V^{l}_{t} - V^{e}_{r} H^{e}_{r} H^{l}_{t} V^{l}_{r} - V^{e}_{r} H^{e}_{r} H^{l}_{t} V^{l}_{t} + V^{e}_{r} H^{e}_{r} V^{l}_{r} H^{l}_{r} + V^{e}_{r} H^{e}_{r} V^{l}_{r} H^{l}_{t} + V^{e}_{r} H^{e}_{r} V^{l}_{t} H^{l}_{r} + V^{e}_{r} H^{e}_{r} V^{l}_{t} H^{l}_{t} - V^{e}_{r} H^{e}_{t} H^{l}_{r} V^{l}_{r} - V^{e}_{r} H^{e}_{t} H^{l}_{r} V^{l}_{t} - V^{e}_{r} H^{e}_{t} H^{l}_{t} V^{l}_{r} - V^{e}_{r} H^{e}_{t} H^{l}_{t} V^{l}_{t} + V^{e}_{r} H^{e}_{t} V^{l}_{r} H^{l}_{r} + V^{e}_{r} H^{e}_{t} V^{l}_{r} H^{l}_{t} + V^{e}_{r} H^{e}_{t} V^{l}_{t} H^{l}_{r} + V^{e}_{r} H^{e}_{t} V^{l}_{t} H^{l}_{t} - V^{e}_{t} H^{e}_{r} H^{l}_{r} V^{l}_{r} - V^{e}_{t} H^{e}_{r} H^{l}_{r} V^{l}_{t} - V^{e}_{t} H^{e}_{r} H^{l}_{t} V^{l}_{r} - V^{e}_{t} H^{e}_{r} H^{l}_{t} V^{l}_{t} + V^{e}_{t} H^{e}_{r} V^{l}_{r} H^{l}_{r} + V^{e}_{t} H^{e}_{r} V^{l}_{r} H^{l}_{t} + V^{e}_{t} H^{e}_{r} V^{l}_{t} H^{l}_{r} + V^{e}_{t} H^{e}_{r} V^{l}_{t} H^{l}_{t} - V^{e}_{t} H^{e}_{t} H^{l}_{r} V^{l}_{r} - V^{e}_{t} H^{e}_{t} H^{l}_{r} V^{l}_{t} - V^{e}_{t} H^{e}_{t} H^{l}_{t} V^{l}_{r} - V^{e}_{t} H^{e}_{t} H^{l}_{t} V^{l}_{t} + V^{e}_{t} H^{e}_{t} V^{l}_{r} H^{l}_{r} + V^{e}_{t} H^{e}_{t} V^{l}_{r} H^{l}_{t} + V^{e}_{t} H^{e}_{t} V^{l}_{t} H^{l}_{r} + V^{e}_{t} H^{e}_{t} V^{l}_{t} H^{l}_{t}}{8}$"
      ],
      "text/plain": [
       "(H_r^e*V_r^e*H_r^l*V_r^l + H_r^e*V_r^e*H_r^l*V_t^l + H_r^e*V_r^e*H_t^l*V_r^l + H_r^e*V_r^e*H_t^l*V_t^l - H_r^e*V_r^e*V_r^l*H_r^l - H_r^e*V_r^e*V_r^l*H_t^l - H_r^e*V_r^e*V_t^l*H_r^l - H_r^e*V_r^e*V_t^l*H_t^l + H_r^e*V_t^e*H_r^l*V_r^l + H_r^e*V_t^e*H_r^l*V_t^l + H_r^e*V_t^e*H_t^l*V_r^l + H_r^e*V_t^e*H_t^l*V_t^l - H_r^e*V_t^e*V_r^l*H_r^l - H_r^e*V_t^e*V_r^l*H_t^l - H_r^e*V_t^e*V_t^l*H_r^l - H_r^e*V_t^e*V_t^l*H_t^l + H_t^e*V_r^e*H_r^l*V_r^l + H_t^e*V_r^e*H_r^l*V_t^l + H_t^e*V_r^e*H_t^l*V_r^l + H_t^e*V_r^e*H_t^l*V_t^l - H_t^e*V_r^e*V_r^l*H_r^l - H_t^e*V_r^e*V_r^l*H_t^l - H_t^e*V_r^e*V_t^l*H_r^l - H_t^e*V_r^e*V_t^l*H_t^l + H_t^e*V_t^e*H_r^l*V_r^l + H_t^e*V_t^e*H_r^l*V_t^l + H_t^e*V_t^e*H_t^l*V_r^l + H_t^e*V_t^e*H_t^l*V_t^l - H_t^e*V_t^e*V_r^l*H_r^l - H_t^e*V_t^e*V_r^l*H_t^l - H_t^e*V_t^e*V_t^l*H_r^l - H_t^e*V_t^e*V_t^l*H_t^l - V_r^e*H_r^e*H_r^l*V_r^l - V_r^e*H_r^e*H_r^l*V_t^l - V_r^e*H_r^e*H_t^l*V_r^l - V_r^e*H_r^e*H_t^l*V_t^l + V_r^e*H_r^e*V_r^l*H_r^l + V_r^e*H_r^e*V_r^l*H_t^l + V_r^e*H_r^e*V_t^l*H_r^l + V_r^e*H_r^e*V_t^l*H_t^l - V_r^e*H_t^e*H_r^l*V_r^l - V_r^e*H_t^e*H_r^l*V_t^l - V_r^e*H_t^e*H_t^l*V_r^l - V_r^e*H_t^e*H_t^l*V_t^l + V_r^e*H_t^e*V_r^l*H_r^l + V_r^e*H_t^e*V_r^l*H_t^l + V_r^e*H_t^e*V_t^l*H_r^l + V_r^e*H_t^e*V_t^l*H_t^l - V_t^e*H_r^e*H_r^l*V_r^l - V_t^e*H_r^e*H_r^l*V_t^l - V_t^e*H_r^e*H_t^l*V_r^l - V_t^e*H_r^e*H_t^l*V_t^l + V_t^e*H_r^e*V_r^l*H_r^l + V_t^e*H_r^e*V_r^l*H_t^l + V_t^e*H_r^e*V_t^l*H_r^l + V_t^e*H_r^e*V_t^l*H_t^l - V_t^e*H_t^e*H_r^l*V_r^l - V_t^e*H_t^e*H_r^l*V_t^l - V_t^e*H_t^e*H_t^l*V_r^l - V_t^e*H_t^e*H_t^l*V_t^l + V_t^e*H_t^e*V_r^l*H_r^l + V_t^e*H_t^e*V_r^l*H_t^l + V_t^e*H_t^e*V_t^l*H_r^l + V_t^e*H_t^e*V_t^l*H_t^l)/8"
      ]
     },
     "metadata": {},
     "output_type": "display_data"
    }
   ],
   "source": [
    "a, b = symbols('a b')\n",
    "c = (a+b)**2\n",
    "display(psi_minus_output_bs1)\n",
    "display(psi_minus_output_bs1.expand())\n",
    "display(psi_minus_output_bs1.simplify())\n"
   ]
  }
 ],
 "metadata": {
  "kernelspec": {
   "display_name": "Python (base)",
   "language": "python",
   "name": "base"
  },
  "language_info": {
   "codemirror_mode": {
    "name": "ipython",
    "version": 3
   },
   "file_extension": ".py",
   "mimetype": "text/x-python",
   "name": "python",
   "nbconvert_exporter": "python",
   "pygments_lexer": "ipython3",
   "version": "3.12.7"
  }
 },
 "nbformat": 4,
 "nbformat_minor": 5
}
